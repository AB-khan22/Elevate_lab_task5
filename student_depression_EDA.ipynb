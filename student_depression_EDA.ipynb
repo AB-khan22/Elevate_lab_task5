{
 "cells": [
  {
   "cell_type": "markdown",
   "id": "c5931ee3",
   "metadata": {},
   "source": [
    "import necessary librarires"
   ]
  },
  {
   "cell_type": "code",
   "execution_count": 1,
   "id": "bfecbc56",
   "metadata": {},
   "outputs": [],
   "source": [
    "import numpy as np \n",
    "import pandas as pd \n",
    "from matplotlib import pyplot as plt \n",
    "import seaborn as sns"
   ]
  },
  {
   "cell_type": "markdown",
   "id": "01d126d4",
   "metadata": {},
   "source": [
    "import student depression dataset"
   ]
  },
  {
   "cell_type": "code",
   "execution_count": 3,
   "id": "82e1a855",
   "metadata": {},
   "outputs": [],
   "source": [
    "df=pd.read_csv('student_depression_dataset.csv',encoding='UTF-8')"
   ]
  },
  {
   "cell_type": "code",
   "execution_count": 14,
   "id": "b5d34c88",
   "metadata": {},
   "outputs": [
    {
     "data": {
      "text/html": [
       "<div>\n",
       "<style scoped>\n",
       "    .dataframe tbody tr th:only-of-type {\n",
       "        vertical-align: middle;\n",
       "    }\n",
       "\n",
       "    .dataframe tbody tr th {\n",
       "        vertical-align: top;\n",
       "    }\n",
       "\n",
       "    .dataframe thead th {\n",
       "        text-align: right;\n",
       "    }\n",
       "</style>\n",
       "<table border=\"1\" class=\"dataframe\">\n",
       "  <thead>\n",
       "    <tr style=\"text-align: right;\">\n",
       "      <th></th>\n",
       "      <th>id</th>\n",
       "      <th>Gender</th>\n",
       "      <th>Age</th>\n",
       "      <th>City</th>\n",
       "      <th>Profession</th>\n",
       "      <th>Academic Pressure</th>\n",
       "      <th>Work Pressure</th>\n",
       "      <th>CGPA</th>\n",
       "      <th>Study Satisfaction</th>\n",
       "      <th>Job Satisfaction</th>\n",
       "      <th>Sleep Duration</th>\n",
       "      <th>Dietary Habits</th>\n",
       "      <th>Degree</th>\n",
       "      <th>Have you ever had suicidal thoughts ?</th>\n",
       "      <th>Work/Study Hours</th>\n",
       "      <th>Financial Stress</th>\n",
       "      <th>Family History of Mental Illness</th>\n",
       "      <th>Depression</th>\n",
       "    </tr>\n",
       "  </thead>\n",
       "  <tbody>\n",
       "    <tr>\n",
       "      <th>0</th>\n",
       "      <td>2</td>\n",
       "      <td>Male</td>\n",
       "      <td>33</td>\n",
       "      <td>Visakhapatnam</td>\n",
       "      <td>Student</td>\n",
       "      <td>5.0</td>\n",
       "      <td>0.0</td>\n",
       "      <td>8.97</td>\n",
       "      <td>2.0</td>\n",
       "      <td>0.0</td>\n",
       "      <td>'5-6 hours'</td>\n",
       "      <td>Healthy</td>\n",
       "      <td>B.Pharm</td>\n",
       "      <td>Yes</td>\n",
       "      <td>3.0</td>\n",
       "      <td>1.0</td>\n",
       "      <td>No</td>\n",
       "      <td>1</td>\n",
       "    </tr>\n",
       "    <tr>\n",
       "      <th>1</th>\n",
       "      <td>8</td>\n",
       "      <td>Female</td>\n",
       "      <td>24</td>\n",
       "      <td>Bangalore</td>\n",
       "      <td>Student</td>\n",
       "      <td>2.0</td>\n",
       "      <td>0.0</td>\n",
       "      <td>5.90</td>\n",
       "      <td>5.0</td>\n",
       "      <td>0.0</td>\n",
       "      <td>'5-6 hours'</td>\n",
       "      <td>Moderate</td>\n",
       "      <td>BSc</td>\n",
       "      <td>No</td>\n",
       "      <td>3.0</td>\n",
       "      <td>2.0</td>\n",
       "      <td>Yes</td>\n",
       "      <td>0</td>\n",
       "    </tr>\n",
       "    <tr>\n",
       "      <th>2</th>\n",
       "      <td>26</td>\n",
       "      <td>Male</td>\n",
       "      <td>31</td>\n",
       "      <td>Srinagar</td>\n",
       "      <td>Student</td>\n",
       "      <td>3.0</td>\n",
       "      <td>0.0</td>\n",
       "      <td>7.03</td>\n",
       "      <td>5.0</td>\n",
       "      <td>0.0</td>\n",
       "      <td>'Less than 5 hours'</td>\n",
       "      <td>Healthy</td>\n",
       "      <td>BA</td>\n",
       "      <td>No</td>\n",
       "      <td>9.0</td>\n",
       "      <td>1.0</td>\n",
       "      <td>Yes</td>\n",
       "      <td>0</td>\n",
       "    </tr>\n",
       "    <tr>\n",
       "      <th>3</th>\n",
       "      <td>30</td>\n",
       "      <td>Female</td>\n",
       "      <td>28</td>\n",
       "      <td>Varanasi</td>\n",
       "      <td>Student</td>\n",
       "      <td>3.0</td>\n",
       "      <td>0.0</td>\n",
       "      <td>5.59</td>\n",
       "      <td>2.0</td>\n",
       "      <td>0.0</td>\n",
       "      <td>'7-8 hours'</td>\n",
       "      <td>Moderate</td>\n",
       "      <td>BCA</td>\n",
       "      <td>Yes</td>\n",
       "      <td>4.0</td>\n",
       "      <td>5.0</td>\n",
       "      <td>Yes</td>\n",
       "      <td>1</td>\n",
       "    </tr>\n",
       "    <tr>\n",
       "      <th>4</th>\n",
       "      <td>32</td>\n",
       "      <td>Female</td>\n",
       "      <td>25</td>\n",
       "      <td>Jaipur</td>\n",
       "      <td>Student</td>\n",
       "      <td>4.0</td>\n",
       "      <td>0.0</td>\n",
       "      <td>8.13</td>\n",
       "      <td>3.0</td>\n",
       "      <td>0.0</td>\n",
       "      <td>'5-6 hours'</td>\n",
       "      <td>Moderate</td>\n",
       "      <td>M.Tech</td>\n",
       "      <td>Yes</td>\n",
       "      <td>1.0</td>\n",
       "      <td>1.0</td>\n",
       "      <td>No</td>\n",
       "      <td>0</td>\n",
       "    </tr>\n",
       "    <tr>\n",
       "      <th>5</th>\n",
       "      <td>33</td>\n",
       "      <td>Male</td>\n",
       "      <td>29</td>\n",
       "      <td>Pune</td>\n",
       "      <td>Student</td>\n",
       "      <td>2.0</td>\n",
       "      <td>0.0</td>\n",
       "      <td>5.70</td>\n",
       "      <td>3.0</td>\n",
       "      <td>0.0</td>\n",
       "      <td>'Less than 5 hours'</td>\n",
       "      <td>Healthy</td>\n",
       "      <td>PhD</td>\n",
       "      <td>No</td>\n",
       "      <td>4.0</td>\n",
       "      <td>1.0</td>\n",
       "      <td>No</td>\n",
       "      <td>0</td>\n",
       "    </tr>\n",
       "    <tr>\n",
       "      <th>6</th>\n",
       "      <td>52</td>\n",
       "      <td>Male</td>\n",
       "      <td>30</td>\n",
       "      <td>Thane</td>\n",
       "      <td>Student</td>\n",
       "      <td>3.0</td>\n",
       "      <td>0.0</td>\n",
       "      <td>9.54</td>\n",
       "      <td>4.0</td>\n",
       "      <td>0.0</td>\n",
       "      <td>'7-8 hours'</td>\n",
       "      <td>Healthy</td>\n",
       "      <td>BSc</td>\n",
       "      <td>No</td>\n",
       "      <td>1.0</td>\n",
       "      <td>2.0</td>\n",
       "      <td>No</td>\n",
       "      <td>0</td>\n",
       "    </tr>\n",
       "    <tr>\n",
       "      <th>7</th>\n",
       "      <td>56</td>\n",
       "      <td>Female</td>\n",
       "      <td>30</td>\n",
       "      <td>Chennai</td>\n",
       "      <td>Student</td>\n",
       "      <td>2.0</td>\n",
       "      <td>0.0</td>\n",
       "      <td>8.04</td>\n",
       "      <td>4.0</td>\n",
       "      <td>0.0</td>\n",
       "      <td>'Less than 5 hours'</td>\n",
       "      <td>Unhealthy</td>\n",
       "      <td>'Class 12'</td>\n",
       "      <td>No</td>\n",
       "      <td>0.0</td>\n",
       "      <td>1.0</td>\n",
       "      <td>Yes</td>\n",
       "      <td>0</td>\n",
       "    </tr>\n",
       "    <tr>\n",
       "      <th>8</th>\n",
       "      <td>59</td>\n",
       "      <td>Male</td>\n",
       "      <td>28</td>\n",
       "      <td>Nagpur</td>\n",
       "      <td>Student</td>\n",
       "      <td>3.0</td>\n",
       "      <td>0.0</td>\n",
       "      <td>9.79</td>\n",
       "      <td>1.0</td>\n",
       "      <td>0.0</td>\n",
       "      <td>'7-8 hours'</td>\n",
       "      <td>Moderate</td>\n",
       "      <td>B.Ed</td>\n",
       "      <td>Yes</td>\n",
       "      <td>12.0</td>\n",
       "      <td>3.0</td>\n",
       "      <td>No</td>\n",
       "      <td>1</td>\n",
       "    </tr>\n",
       "    <tr>\n",
       "      <th>9</th>\n",
       "      <td>62</td>\n",
       "      <td>Male</td>\n",
       "      <td>31</td>\n",
       "      <td>Nashik</td>\n",
       "      <td>Student</td>\n",
       "      <td>2.0</td>\n",
       "      <td>0.0</td>\n",
       "      <td>8.38</td>\n",
       "      <td>3.0</td>\n",
       "      <td>0.0</td>\n",
       "      <td>'Less than 5 hours'</td>\n",
       "      <td>Moderate</td>\n",
       "      <td>LLB</td>\n",
       "      <td>Yes</td>\n",
       "      <td>2.0</td>\n",
       "      <td>5.0</td>\n",
       "      <td>No</td>\n",
       "      <td>1</td>\n",
       "    </tr>\n",
       "    <tr>\n",
       "      <th>10</th>\n",
       "      <td>83</td>\n",
       "      <td>Male</td>\n",
       "      <td>24</td>\n",
       "      <td>Nagpur</td>\n",
       "      <td>Student</td>\n",
       "      <td>3.0</td>\n",
       "      <td>0.0</td>\n",
       "      <td>6.10</td>\n",
       "      <td>3.0</td>\n",
       "      <td>0.0</td>\n",
       "      <td>'5-6 hours'</td>\n",
       "      <td>Moderate</td>\n",
       "      <td>'Class 12'</td>\n",
       "      <td>Yes</td>\n",
       "      <td>11.0</td>\n",
       "      <td>1.0</td>\n",
       "      <td>Yes</td>\n",
       "      <td>1</td>\n",
       "    </tr>\n",
       "    <tr>\n",
       "      <th>11</th>\n",
       "      <td>91</td>\n",
       "      <td>Male</td>\n",
       "      <td>33</td>\n",
       "      <td>Vadodara</td>\n",
       "      <td>Student</td>\n",
       "      <td>3.0</td>\n",
       "      <td>0.0</td>\n",
       "      <td>7.03</td>\n",
       "      <td>4.0</td>\n",
       "      <td>0.0</td>\n",
       "      <td>'Less than 5 hours'</td>\n",
       "      <td>Healthy</td>\n",
       "      <td>BE</td>\n",
       "      <td>Yes</td>\n",
       "      <td>10.0</td>\n",
       "      <td>2.0</td>\n",
       "      <td>Yes</td>\n",
       "      <td>0</td>\n",
       "    </tr>\n",
       "    <tr>\n",
       "      <th>12</th>\n",
       "      <td>94</td>\n",
       "      <td>Male</td>\n",
       "      <td>27</td>\n",
       "      <td>Kalyan</td>\n",
       "      <td>Student</td>\n",
       "      <td>5.0</td>\n",
       "      <td>0.0</td>\n",
       "      <td>7.04</td>\n",
       "      <td>1.0</td>\n",
       "      <td>0.0</td>\n",
       "      <td>'Less than 5 hours'</td>\n",
       "      <td>Moderate</td>\n",
       "      <td>M.Tech</td>\n",
       "      <td>No</td>\n",
       "      <td>10.0</td>\n",
       "      <td>1.0</td>\n",
       "      <td>Yes</td>\n",
       "      <td>1</td>\n",
       "    </tr>\n",
       "    <tr>\n",
       "      <th>13</th>\n",
       "      <td>100</td>\n",
       "      <td>Female</td>\n",
       "      <td>19</td>\n",
       "      <td>Rajkot</td>\n",
       "      <td>Student</td>\n",
       "      <td>2.0</td>\n",
       "      <td>0.0</td>\n",
       "      <td>8.52</td>\n",
       "      <td>4.0</td>\n",
       "      <td>0.0</td>\n",
       "      <td>'Less than 5 hours'</td>\n",
       "      <td>Unhealthy</td>\n",
       "      <td>'Class 12'</td>\n",
       "      <td>No</td>\n",
       "      <td>6.0</td>\n",
       "      <td>2.0</td>\n",
       "      <td>Yes</td>\n",
       "      <td>0</td>\n",
       "    </tr>\n",
       "    <tr>\n",
       "      <th>14</th>\n",
       "      <td>103</td>\n",
       "      <td>Female</td>\n",
       "      <td>19</td>\n",
       "      <td>Kalyan</td>\n",
       "      <td>Student</td>\n",
       "      <td>5.0</td>\n",
       "      <td>0.0</td>\n",
       "      <td>5.64</td>\n",
       "      <td>5.0</td>\n",
       "      <td>0.0</td>\n",
       "      <td>'Less than 5 hours'</td>\n",
       "      <td>Moderate</td>\n",
       "      <td>'Class 12'</td>\n",
       "      <td>Yes</td>\n",
       "      <td>4.0</td>\n",
       "      <td>5.0</td>\n",
       "      <td>Yes</td>\n",
       "      <td>1</td>\n",
       "    </tr>\n",
       "    <tr>\n",
       "      <th>15</th>\n",
       "      <td>106</td>\n",
       "      <td>Male</td>\n",
       "      <td>29</td>\n",
       "      <td>Srinagar</td>\n",
       "      <td>Student</td>\n",
       "      <td>3.0</td>\n",
       "      <td>0.0</td>\n",
       "      <td>8.58</td>\n",
       "      <td>3.0</td>\n",
       "      <td>0.0</td>\n",
       "      <td>'More than 8 hours'</td>\n",
       "      <td>Moderate</td>\n",
       "      <td>M.Tech</td>\n",
       "      <td>Yes</td>\n",
       "      <td>10.0</td>\n",
       "      <td>2.0</td>\n",
       "      <td>Yes</td>\n",
       "      <td>1</td>\n",
       "    </tr>\n",
       "    <tr>\n",
       "      <th>16</th>\n",
       "      <td>120</td>\n",
       "      <td>Male</td>\n",
       "      <td>25</td>\n",
       "      <td>Nashik</td>\n",
       "      <td>Student</td>\n",
       "      <td>5.0</td>\n",
       "      <td>0.0</td>\n",
       "      <td>6.51</td>\n",
       "      <td>2.0</td>\n",
       "      <td>0.0</td>\n",
       "      <td>'Less than 5 hours'</td>\n",
       "      <td>Unhealthy</td>\n",
       "      <td>M.Ed</td>\n",
       "      <td>Yes</td>\n",
       "      <td>2.0</td>\n",
       "      <td>5.0</td>\n",
       "      <td>Yes</td>\n",
       "      <td>1</td>\n",
       "    </tr>\n",
       "    <tr>\n",
       "      <th>17</th>\n",
       "      <td>132</td>\n",
       "      <td>Female</td>\n",
       "      <td>20</td>\n",
       "      <td>Ahmedabad</td>\n",
       "      <td>Student</td>\n",
       "      <td>5.0</td>\n",
       "      <td>0.0</td>\n",
       "      <td>7.25</td>\n",
       "      <td>3.0</td>\n",
       "      <td>0.0</td>\n",
       "      <td>'5-6 hours'</td>\n",
       "      <td>Healthy</td>\n",
       "      <td>'Class 12'</td>\n",
       "      <td>Yes</td>\n",
       "      <td>10.0</td>\n",
       "      <td>3.0</td>\n",
       "      <td>No</td>\n",
       "      <td>1</td>\n",
       "    </tr>\n",
       "    <tr>\n",
       "      <th>18</th>\n",
       "      <td>139</td>\n",
       "      <td>Male</td>\n",
       "      <td>19</td>\n",
       "      <td>Chennai</td>\n",
       "      <td>Student</td>\n",
       "      <td>2.0</td>\n",
       "      <td>0.0</td>\n",
       "      <td>7.83</td>\n",
       "      <td>2.0</td>\n",
       "      <td>0.0</td>\n",
       "      <td>'7-8 hours'</td>\n",
       "      <td>Unhealthy</td>\n",
       "      <td>'Class 12'</td>\n",
       "      <td>No</td>\n",
       "      <td>6.0</td>\n",
       "      <td>3.0</td>\n",
       "      <td>No</td>\n",
       "      <td>0</td>\n",
       "    </tr>\n",
       "    <tr>\n",
       "      <th>19</th>\n",
       "      <td>145</td>\n",
       "      <td>Male</td>\n",
       "      <td>25</td>\n",
       "      <td>Kalyan</td>\n",
       "      <td>Student</td>\n",
       "      <td>3.0</td>\n",
       "      <td>0.0</td>\n",
       "      <td>9.93</td>\n",
       "      <td>3.0</td>\n",
       "      <td>0.0</td>\n",
       "      <td>'5-6 hours'</td>\n",
       "      <td>Moderate</td>\n",
       "      <td>B.Ed</td>\n",
       "      <td>No</td>\n",
       "      <td>8.0</td>\n",
       "      <td>3.0</td>\n",
       "      <td>Yes</td>\n",
       "      <td>1</td>\n",
       "    </tr>\n",
       "  </tbody>\n",
       "</table>\n",
       "</div>"
      ],
      "text/plain": [
       "     id  Gender  Age           City Profession  Academic Pressure  \\\n",
       "0     2    Male   33  Visakhapatnam    Student                5.0   \n",
       "1     8  Female   24      Bangalore    Student                2.0   \n",
       "2    26    Male   31       Srinagar    Student                3.0   \n",
       "3    30  Female   28       Varanasi    Student                3.0   \n",
       "4    32  Female   25         Jaipur    Student                4.0   \n",
       "5    33    Male   29           Pune    Student                2.0   \n",
       "6    52    Male   30          Thane    Student                3.0   \n",
       "7    56  Female   30        Chennai    Student                2.0   \n",
       "8    59    Male   28         Nagpur    Student                3.0   \n",
       "9    62    Male   31         Nashik    Student                2.0   \n",
       "10   83    Male   24         Nagpur    Student                3.0   \n",
       "11   91    Male   33       Vadodara    Student                3.0   \n",
       "12   94    Male   27         Kalyan    Student                5.0   \n",
       "13  100  Female   19         Rajkot    Student                2.0   \n",
       "14  103  Female   19         Kalyan    Student                5.0   \n",
       "15  106    Male   29       Srinagar    Student                3.0   \n",
       "16  120    Male   25         Nashik    Student                5.0   \n",
       "17  132  Female   20      Ahmedabad    Student                5.0   \n",
       "18  139    Male   19        Chennai    Student                2.0   \n",
       "19  145    Male   25         Kalyan    Student                3.0   \n",
       "\n",
       "    Work Pressure  CGPA  Study Satisfaction  Job Satisfaction  \\\n",
       "0             0.0  8.97                 2.0               0.0   \n",
       "1             0.0  5.90                 5.0               0.0   \n",
       "2             0.0  7.03                 5.0               0.0   \n",
       "3             0.0  5.59                 2.0               0.0   \n",
       "4             0.0  8.13                 3.0               0.0   \n",
       "5             0.0  5.70                 3.0               0.0   \n",
       "6             0.0  9.54                 4.0               0.0   \n",
       "7             0.0  8.04                 4.0               0.0   \n",
       "8             0.0  9.79                 1.0               0.0   \n",
       "9             0.0  8.38                 3.0               0.0   \n",
       "10            0.0  6.10                 3.0               0.0   \n",
       "11            0.0  7.03                 4.0               0.0   \n",
       "12            0.0  7.04                 1.0               0.0   \n",
       "13            0.0  8.52                 4.0               0.0   \n",
       "14            0.0  5.64                 5.0               0.0   \n",
       "15            0.0  8.58                 3.0               0.0   \n",
       "16            0.0  6.51                 2.0               0.0   \n",
       "17            0.0  7.25                 3.0               0.0   \n",
       "18            0.0  7.83                 2.0               0.0   \n",
       "19            0.0  9.93                 3.0               0.0   \n",
       "\n",
       "         Sleep Duration Dietary Habits      Degree  \\\n",
       "0           '5-6 hours'        Healthy     B.Pharm   \n",
       "1           '5-6 hours'       Moderate         BSc   \n",
       "2   'Less than 5 hours'        Healthy          BA   \n",
       "3           '7-8 hours'       Moderate         BCA   \n",
       "4           '5-6 hours'       Moderate      M.Tech   \n",
       "5   'Less than 5 hours'        Healthy         PhD   \n",
       "6           '7-8 hours'        Healthy         BSc   \n",
       "7   'Less than 5 hours'      Unhealthy  'Class 12'   \n",
       "8           '7-8 hours'       Moderate        B.Ed   \n",
       "9   'Less than 5 hours'       Moderate         LLB   \n",
       "10          '5-6 hours'       Moderate  'Class 12'   \n",
       "11  'Less than 5 hours'        Healthy          BE   \n",
       "12  'Less than 5 hours'       Moderate      M.Tech   \n",
       "13  'Less than 5 hours'      Unhealthy  'Class 12'   \n",
       "14  'Less than 5 hours'       Moderate  'Class 12'   \n",
       "15  'More than 8 hours'       Moderate      M.Tech   \n",
       "16  'Less than 5 hours'      Unhealthy        M.Ed   \n",
       "17          '5-6 hours'        Healthy  'Class 12'   \n",
       "18          '7-8 hours'      Unhealthy  'Class 12'   \n",
       "19          '5-6 hours'       Moderate        B.Ed   \n",
       "\n",
       "   Have you ever had suicidal thoughts ?  Work/Study Hours Financial Stress  \\\n",
       "0                                    Yes               3.0              1.0   \n",
       "1                                     No               3.0              2.0   \n",
       "2                                     No               9.0              1.0   \n",
       "3                                    Yes               4.0              5.0   \n",
       "4                                    Yes               1.0              1.0   \n",
       "5                                     No               4.0              1.0   \n",
       "6                                     No               1.0              2.0   \n",
       "7                                     No               0.0              1.0   \n",
       "8                                    Yes              12.0              3.0   \n",
       "9                                    Yes               2.0              5.0   \n",
       "10                                   Yes              11.0              1.0   \n",
       "11                                   Yes              10.0              2.0   \n",
       "12                                    No              10.0              1.0   \n",
       "13                                    No               6.0              2.0   \n",
       "14                                   Yes               4.0              5.0   \n",
       "15                                   Yes              10.0              2.0   \n",
       "16                                   Yes               2.0              5.0   \n",
       "17                                   Yes              10.0              3.0   \n",
       "18                                    No               6.0              3.0   \n",
       "19                                    No               8.0              3.0   \n",
       "\n",
       "   Family History of Mental Illness  Depression  \n",
       "0                                No           1  \n",
       "1                               Yes           0  \n",
       "2                               Yes           0  \n",
       "3                               Yes           1  \n",
       "4                                No           0  \n",
       "5                                No           0  \n",
       "6                                No           0  \n",
       "7                               Yes           0  \n",
       "8                                No           1  \n",
       "9                                No           1  \n",
       "10                              Yes           1  \n",
       "11                              Yes           0  \n",
       "12                              Yes           1  \n",
       "13                              Yes           0  \n",
       "14                              Yes           1  \n",
       "15                              Yes           1  \n",
       "16                              Yes           1  \n",
       "17                               No           1  \n",
       "18                               No           0  \n",
       "19                              Yes           1  "
      ]
     },
     "execution_count": 14,
     "metadata": {},
     "output_type": "execute_result"
    }
   ],
   "source": [
    "df.head(20)"
   ]
  },
  {
   "cell_type": "code",
   "execution_count": 7,
   "id": "381f62c4",
   "metadata": {},
   "outputs": [
    {
     "name": "stdout",
     "output_type": "stream",
     "text": [
      "<class 'pandas.core.frame.DataFrame'>\n",
      "RangeIndex: 27901 entries, 0 to 27900\n",
      "Data columns (total 18 columns):\n",
      " #   Column                                 Non-Null Count  Dtype  \n",
      "---  ------                                 --------------  -----  \n",
      " 0   id                                     27901 non-null  int64  \n",
      " 1   Gender                                 27901 non-null  object \n",
      " 2   Age                                    27901 non-null  float64\n",
      " 3   City                                   27901 non-null  object \n",
      " 4   Profession                             27901 non-null  object \n",
      " 5   Academic Pressure                      27901 non-null  float64\n",
      " 6   Work Pressure                          27901 non-null  float64\n",
      " 7   CGPA                                   27901 non-null  float64\n",
      " 8   Study Satisfaction                     27901 non-null  float64\n",
      " 9   Job Satisfaction                       27901 non-null  float64\n",
      " 10  Sleep Duration                         27901 non-null  object \n",
      " 11  Dietary Habits                         27901 non-null  object \n",
      " 12  Degree                                 27901 non-null  object \n",
      " 13  Have you ever had suicidal thoughts ?  27901 non-null  object \n",
      " 14  Work/Study Hours                       27901 non-null  float64\n",
      " 15  Financial Stress                       27901 non-null  object \n",
      " 16  Family History of Mental Illness       27901 non-null  object \n",
      " 17  Depression                             27901 non-null  int64  \n",
      "dtypes: float64(7), int64(2), object(9)\n",
      "memory usage: 3.8+ MB\n"
     ]
    }
   ],
   "source": [
    "df.info()"
   ]
  },
  {
   "cell_type": "markdown",
   "id": "ae8b0b60",
   "metadata": {},
   "source": [
    "Change the datatypes of the columns"
   ]
  },
  {
   "cell_type": "code",
   "execution_count": 15,
   "id": "681312b3",
   "metadata": {},
   "outputs": [],
   "source": [
    "df=df.astype({'Study Satisfaction':'int','Job Satisfaction':'int','Work/Study Hours':'int','Work Pressure':'int','Academic Pressure':'int'})"
   ]
  },
  {
   "cell_type": "markdown",
   "id": "7d77402a",
   "metadata": {},
   "source": [
    "convert categorical values into numerical values"
   ]
  },
  {
   "cell_type": "code",
   "execution_count": 62,
   "id": "1baf2c32",
   "metadata": {},
   "outputs": [
    {
     "name": "stderr",
     "output_type": "stream",
     "text": [
      "C:\\Users\\Administrator\\AppData\\Local\\Temp\\ipykernel_2744\\296917177.py:1: FutureWarning: A value is trying to be set on a copy of a DataFrame or Series through chained assignment using an inplace method.\n",
      "The behavior will change in pandas 3.0. This inplace method will never work because the intermediate object on which we are setting values always behaves as a copy.\n",
      "\n",
      "For example, when doing 'df[col].method(value, inplace=True)', try using 'df.method({col: value}, inplace=True)' or df[col] = df[col].method(value) instead, to perform the operation inplace on the original object.\n",
      "\n",
      "\n",
      "  df['Gender'].replace(['Male','Female'],[0,1],inplace=True)\n",
      "C:\\Users\\Administrator\\AppData\\Local\\Temp\\ipykernel_2744\\296917177.py:1: FutureWarning: Downcasting behavior in `replace` is deprecated and will be removed in a future version. To retain the old behavior, explicitly call `result.infer_objects(copy=False)`. To opt-in to the future behavior, set `pd.set_option('future.no_silent_downcasting', True)`\n",
      "  df['Gender'].replace(['Male','Female'],[0,1],inplace=True)\n"
     ]
    }
   ],
   "source": [
    "df['Gender'].replace(['Male','Female'],[0,1],inplace=True)"
   ]
  },
  {
   "cell_type": "code",
   "execution_count": 63,
   "id": "4f7c8cdd",
   "metadata": {},
   "outputs": [
    {
     "name": "stdout",
     "output_type": "stream",
     "text": [
      "<class 'pandas.core.frame.DataFrame'>\n",
      "RangeIndex: 27901 entries, 0 to 27900\n",
      "Data columns (total 18 columns):\n",
      " #   Column                                 Non-Null Count  Dtype  \n",
      "---  ------                                 --------------  -----  \n",
      " 0   id                                     27901 non-null  int64  \n",
      " 1   Gender                                 27901 non-null  int64  \n",
      " 2   Age                                    27901 non-null  int64  \n",
      " 3   City                                   27901 non-null  object \n",
      " 4   Profession                             27901 non-null  object \n",
      " 5   Academic Pressure                      27901 non-null  int64  \n",
      " 6   Work Pressure                          27901 non-null  int64  \n",
      " 7   CGPA                                   27901 non-null  float64\n",
      " 8   Study Satisfaction                     27901 non-null  int64  \n",
      " 9   Job Satisfaction                       27901 non-null  int64  \n",
      " 10  Sleep Duration                         27901 non-null  object \n",
      " 11  Dietary Habits                         27901 non-null  object \n",
      " 12  Degree                                 27901 non-null  object \n",
      " 13  Have you ever had suicidal thoughts ?  27901 non-null  object \n",
      " 14  Work/Study Hours                       27901 non-null  int64  \n",
      " 15  Financial Stress                       27901 non-null  object \n",
      " 16  Family History of Mental Illness       27901 non-null  object \n",
      " 17  Depression                             27901 non-null  int64  \n",
      "dtypes: float64(1), int64(9), object(8)\n",
      "memory usage: 3.8+ MB\n"
     ]
    }
   ],
   "source": [
    "df.info()"
   ]
  },
  {
   "cell_type": "markdown",
   "id": "e67bd438",
   "metadata": {},
   "source": [
    "Null  values checking"
   ]
  },
  {
   "cell_type": "code",
   "execution_count": 19,
   "id": "6b7a4ba2",
   "metadata": {},
   "outputs": [
    {
     "data": {
      "text/plain": [
       "id                                       0\n",
       "Gender                                   0\n",
       "Age                                      0\n",
       "City                                     0\n",
       "Profession                               0\n",
       "Academic Pressure                        0\n",
       "Work Pressure                            0\n",
       "CGPA                                     0\n",
       "Study Satisfaction                       0\n",
       "Job Satisfaction                         0\n",
       "Sleep Duration                           0\n",
       "Dietary Habits                           0\n",
       "Degree                                   0\n",
       "Have you ever had suicidal thoughts ?    0\n",
       "Work/Study Hours                         0\n",
       "Financial Stress                         0\n",
       "Family History of Mental Illness         0\n",
       "Depression                               0\n",
       "dtype: int64"
      ]
     },
     "execution_count": 19,
     "metadata": {},
     "output_type": "execute_result"
    }
   ],
   "source": [
    "df.isnull().sum()"
   ]
  },
  {
   "cell_type": "code",
   "execution_count": 113,
   "id": "359b79e6",
   "metadata": {},
   "outputs": [
    {
     "name": "stdout",
     "output_type": "stream",
     "text": [
      "2\n"
     ]
    }
   ],
   "source": [
    "count=0\n",
    "for i in df['City']:\n",
    "    if i=='Bhavna':\n",
    "        count+=1\n",
    "print(count)\n"
   ]
  },
  {
   "cell_type": "code",
   "execution_count": 119,
   "id": "6db1c2ce",
   "metadata": {},
   "outputs": [
    {
     "data": {
      "text/plain": [
       "array(['Visakhapatnam', 'Bangalore', 'Srinagar', 'Varanasi', 'Jaipur',\n",
       "       'Pune', 'Thane', 'Chennai', 'Nagpur', 'Nashik', 'Vadodara',\n",
       "       'Kalyan', 'Rajkot', 'Ahmedabad', 'Kolkata', 'Mumbai', 'Lucknow',\n",
       "       'Indore', 'Surat', 'Ludhiana', 'Bhopal', 'Meerut', 'Agra',\n",
       "       'Ghaziabad', 'Hyderabad', 'Vasai-Virar', 'Kanpur', 'Patna',\n",
       "       'Faridabad', 'Delhi', 'Saanvi', 'M.Tech', \"'Less Delhi'\", 'City',\n",
       "       \"'Less than 5 Kalyan'\", 'Mira', 'Harsha', 'Vaanya', 'Gaurav',\n",
       "       'Harsh', 'Reyansh', 'Kibara', 'Rashi', 'ME', 'M.Com', 'Nalyan',\n",
       "       'Mihir', 'Nalini', 'Nandini', 'Khaziabad'], dtype=object)"
      ]
     },
     "execution_count": 119,
     "metadata": {},
     "output_type": "execute_result"
    }
   ],
   "source": [
    "df['City'].unique()"
   ]
  },
  {
   "cell_type": "markdown",
   "id": "e632c616",
   "metadata": {},
   "source": [
    "Remove unwanted rows from the dataset"
   ]
  },
  {
   "cell_type": "code",
   "execution_count": 139,
   "id": "3d6f129c",
   "metadata": {},
   "outputs": [],
   "source": [
    "df.drop(df[df['City']=='Vaanya'].index,inplace=True)"
   ]
  },
  {
   "cell_type": "code",
   "execution_count": 138,
   "id": "833469a2",
   "metadata": {},
   "outputs": [],
   "source": [
    "df.drop(df[df['City']=='Gaurav'].index,inplace=True)"
   ]
  },
  {
   "cell_type": "code",
   "execution_count": 137,
   "id": "fd79f6fb",
   "metadata": {},
   "outputs": [],
   "source": [
    "df.drop(df[df['City']=='Mira'].index,inplace=True)"
   ]
  },
  {
   "cell_type": "code",
   "execution_count": 135,
   "id": "0b420003",
   "metadata": {},
   "outputs": [],
   "source": [
    "df.drop(df[df['City']=='Harsha'].index,inplace=True)"
   ]
  },
  {
   "cell_type": "code",
   "execution_count": 134,
   "id": "8c8ab54a",
   "metadata": {},
   "outputs": [],
   "source": [
    "df.drop(df[df['City']=='Saanvi'].index,inplace=True)"
   ]
  },
  {
   "cell_type": "code",
   "execution_count": 133,
   "id": "d8c9bd33",
   "metadata": {},
   "outputs": [],
   "source": [
    "df.drop(df[df['City']=='Khaziabad'].index,inplace=True)"
   ]
  },
  {
   "cell_type": "code",
   "execution_count": 122,
   "id": "931be00d",
   "metadata": {},
   "outputs": [],
   "source": [
    "df.drop(df[df['City']=='Mihir'].index,inplace=True)"
   ]
  },
  {
   "cell_type": "code",
   "execution_count": 123,
   "id": "b4cb2458",
   "metadata": {},
   "outputs": [],
   "source": [
    "df.drop(df[df['City']=='Nalini'].index,inplace=True)"
   ]
  },
  {
   "cell_type": "code",
   "execution_count": 125,
   "id": "25b426be",
   "metadata": {},
   "outputs": [],
   "source": [
    "df.drop(df[df['City']=='ME'].index,inplace=True)"
   ]
  },
  {
   "cell_type": "code",
   "execution_count": 126,
   "id": "cb71c028",
   "metadata": {},
   "outputs": [],
   "source": [
    "df.drop(df[df['City']=='M.Com'].index,inplace=True)"
   ]
  },
  {
   "cell_type": "code",
   "execution_count": 127,
   "id": "371e8df0",
   "metadata": {},
   "outputs": [],
   "source": [
    "df.drop(df[df['City']=='Harsh'].index,inplace=True)"
   ]
  },
  {
   "cell_type": "code",
   "execution_count": 124,
   "id": "f3e9545b",
   "metadata": {},
   "outputs": [],
   "source": [
    "df.drop(df[df['City']=='Nandni'].index,inplace=True)"
   ]
  },
  {
   "cell_type": "code",
   "execution_count": 115,
   "id": "de07756c",
   "metadata": {},
   "outputs": [],
   "source": [
    "df.drop(df[df['City']=='Bhavna'].index,inplace=True)"
   ]
  },
  {
   "cell_type": "code",
   "execution_count": null,
   "id": "53481e69",
   "metadata": {},
   "outputs": [],
   "source": [
    "df.drop(df[df['City']=='3.0'].index,inplace=True)"
   ]
  },
  {
   "cell_type": "markdown",
   "id": "2c4e4cf7",
   "metadata": {},
   "source": [
    "Sucide thoughts by profession"
   ]
  },
  {
   "cell_type": "code",
   "execution_count": 128,
   "id": "689a402e",
   "metadata": {},
   "outputs": [
    {
     "name": "stderr",
     "output_type": "stream",
     "text": [
      "C:\\Users\\Administrator\\AppData\\Local\\Temp\\ipykernel_2744\\1759107866.py:2: FutureWarning: \n",
      "\n",
      "Passing `palette` without assigning `hue` is deprecated and will be removed in v0.14.0. Assign the `x` variable to `hue` and set `legend=False` for the same effect.\n",
      "\n",
      "  sucide_Thoughts=sns.countplot(x='Have you ever had suicidal thoughts ?',data=df,palette='Set2')\n"
     ]
    },
    {
     "data": {
      "image/png": "[encoded data removed]",
      "text/plain": [
       "<Figure size 640x480 with 1 Axes>"
      ]
     },
     "metadata": {},
     "output_type": "display_data"
    }
   ],
   "source": [
    "# sucide_Thoughts=sns.barplot(df['Have you ever had suicidal thoughts ?'],df['Profession'],color=['blue','red'],width=0.4)\n",
    "sucide_Thoughts=sns.countplot(x='Have you ever had suicidal thoughts ?',data=df,palette='Set2')\n",
    "plt.show()"
   ]
  },
  {
   "cell_type": "markdown",
   "id": "d740f9f3",
   "metadata": {},
   "source": [
    "Here we can easily see most of the students face these type of suicidal thoughts. Here arround 17500 persons facing these problem and arround 10000 are not facing this problem. "
   ]
  },
  {
   "cell_type": "markdown",
   "id": "7ab4fcca",
   "metadata": {},
   "source": [
    "sleep duration impact on sucide duration"
   ]
  },
  {
   "cell_type": "code",
   "execution_count": 129,
   "id": "7f17605a",
   "metadata": {},
   "outputs": [
    {
     "data": {
      "image/png": "[encoded data removed]",
      "text/plain": [
       "<Figure size 640x480 with 1 Axes>"
      ]
     },
     "metadata": {},
     "output_type": "display_data"
    }
   ],
   "source": [
    "sleep_duration=sns.countplot(x='Sleep Duration',data=df,palette='Set2',hue='Have you ever had suicidal thoughts ?')"
   ]
  },
  {
   "cell_type": "markdown",
   "id": "f706ca15",
   "metadata": {},
   "source": [
    "This Graph shows if your sleep duration is less than 5 hours so the suicidal thoughts will be increase. On the other hand if the sleep duration is 7 to 8 hours per day than suicidal thoughts will be decrease."
   ]
  },
  {
   "cell_type": "markdown",
   "id": "50369a9e",
   "metadata": {},
   "source": [
    "Depression Rate by Dietary Habits"
   ]
  },
  {
   "cell_type": "code",
   "execution_count": 144,
   "id": "c6a07f7b",
   "metadata": {},
   "outputs": [
    {
     "data": {
      "text/plain": [
       "<Figure size 1000x500 with 0 Axes>"
      ]
     },
     "metadata": {},
     "output_type": "display_data"
    },
    {
     "data": {
      "image/png": "[encoded data removed]",
      "text/plain": [
       "<Figure size 640x480 with 1 Axes>"
      ]
     },
     "metadata": {},
     "output_type": "display_data"
    }
   ],
   "source": [
    "Relation_depression_dietary_habit=df.groupby('Dietary Habits')['Depression'].mean()*100\n",
    "Relation_depression_dietary_habit=Relation_depression_dietary_habit.head(5).sort_values(ascending=False)\n",
    "plt.figure(figsize=(10,5))\n",
    "\n",
    "pd.DataFrame(Relation_depression_dietary_habit).reset_index().rename(columns={'index':'Dietary Habits','Depression':'Depression Rate'}).plot(x='Dietary Habits',y='Depression Rate',kind='barh',color='green',legend=False)\n",
    "plt.title('Depression Rate by Dietary Habits')\n",
    "plt.xlabel('Dietary Habits')    \n",
    "plt.ylabel('Depression Rate (%)')\n",
    "\n",
    "plt.gca().invert_yaxis()\n",
    "plt.show()\n"
   ]
  },
  {
   "cell_type": "markdown",
   "id": "813c15ce",
   "metadata": {},
   "source": [
    " As the graph is  showing Depression rate is increasing by your dietary Habits . If you take healthy food the rate of depression is is low. On the other hand if you take unhealthy food or fast food junk food the Depression rate will be high."
   ]
  },
  {
   "cell_type": "markdown",
   "id": "0e92cfb0",
   "metadata": {},
   "source": [
    "Checking Depression Rate by Degree"
   ]
  },
  {
   "cell_type": "code",
   "execution_count": 130,
   "id": "103f4a3e",
   "metadata": {},
   "outputs": [
    {
     "data": {
      "text/plain": [
       "<Figure size 1000x500 with 0 Axes>"
      ]
     },
     "metadata": {},
     "output_type": "display_data"
    },
    {
     "data": {
      "image/png": "[encoded data removed]",
      "text/plain": [
       "<Figure size 640x480 with 1 Axes>"
      ]
     },
     "metadata": {},
     "output_type": "display_data"
    }
   ],
   "source": [
    "degree_depression=df.groupby('Degree')['Depression'].mean()*100\n",
    "degree_depression=degree_depression.head(5).sort_values(ascending=False)\n",
    "plt.figure(figsize=(10,5))\n",
    "\n",
    "pd.DataFrame(degree_depression).reset_index().rename(columns={'index':'Degree','Depression':'Depression Rate'}).plot(x='Degree',y='Depression Rate',kind='bar',color='red',legend=False)\n",
    "plt.title('Depression Rate by Degree')\n",
    "plt.xlabel('Degree')    \n",
    "plt.ylabel('Depression Rate (%)')\n",
    "\n",
    "plt.gca().invert_yaxis()\n",
    "plt.show()\n"
   ]
  },
  {
   "cell_type": "markdown",
   "id": "9a931ab5",
   "metadata": {},
   "source": [
    "Depression Rate by Profession "
   ]
  },
  {
   "cell_type": "code",
   "execution_count": 131,
   "id": "03b955df",
   "metadata": {},
   "outputs": [
    {
     "data": {
      "text/plain": [
       "<Figure size 1000x500 with 0 Axes>"
      ]
     },
     "metadata": {},
     "output_type": "display_data"
    },
    {
     "data": {
      "image/png": "[encoded data removed]",
      "text/plain": [
       "<Figure size 640x480 with 1 Axes>"
      ]
     },
     "metadata": {},
     "output_type": "display_data"
    }
   ],
   "source": [
    "profession_depression=df.groupby('Profession')['Depression'].mean()*100\n",
    "profession_depression=profession_depression.head(5).sort_values(ascending=False)\n",
    "plt.figure(figsize=(10,5))\n",
    "\n",
    "pd.DataFrame(profession_depression).reset_index().rename(columns={'index':'Profession','Depression':'Depression Rate'}).plot(x='Profession',y='Depression Rate',kind='bar',color='red',legend=False)\n",
    "plt.title('Depression Rate by Profession')\n",
    "plt.xlabel('Profession')    \n",
    "plt.ylabel('Depression Rate (%)')\n",
    "\n",
    "plt.gca().invert_yaxis()\n",
    "plt.show()\n"
   ]
  },
  {
   "cell_type": "code",
   "execution_count": null,
   "id": "9fd86b2b",
   "metadata": {},
   "outputs": [],
   "source": []
  },
  {
   "cell_type": "code",
   "execution_count": 140,
   "id": "3ffc5f7e",
   "metadata": {},
   "outputs": [
    {
     "data": {
      "text/plain": [
       "City\n",
       "Ahmedabad               67.297581\n",
       "Hyderabad               66.940299\n",
       "Patna                   63.157895\n",
       "Rajkot                  62.622549\n",
       "Bhopal                  61.991435\n",
       "Delhi                   60.937500\n",
       "Bangalore               60.886571\n",
       "Kolkata                 60.881801\n",
       "Indore                  60.497667\n",
       "Meerut                  59.757576\n",
       "Chennai                 59.661017\n",
       "Kalyan                  59.490446\n",
       "Thane                   59.086918\n",
       "Faridabad               58.785249\n",
       "Ludhiana                58.235824\n",
       "Surat                   57.977737\n",
       "Ghaziabad               57.449664\n",
       "Vasai-Virar             57.286822\n",
       "Visakhapatnam           56.965944\n",
       "Vadodara                56.195965\n",
       "Pune                    55.888430\n",
       "Nagpur                  55.760369\n",
       "Srinagar                55.612245\n",
       "Lucknow                 55.497835\n",
       "Mumbai                  55.221745\n",
       "Kanpur                  54.187192\n",
       "Agra                    53.473492\n",
       "Varanasi                53.138686\n",
       "Nashik                  52.833638\n",
       "Jaipur                  52.413127\n",
       "City                    50.000000\n",
       "'Less Delhi'             0.000000\n",
       "'Less than 5 Kalyan'     0.000000\n",
       "M.Tech                   0.000000\n",
       "Kibara                   0.000000\n",
       "Rashi                    0.000000\n",
       "Nandini                  0.000000\n",
       "Nalyan                   0.000000\n",
       "Reyansh                  0.000000\n",
       "Name: Depression, dtype: float64"
      ]
     },
     "execution_count": 140,
     "metadata": {},
     "output_type": "execute_result"
    }
   ],
   "source": [
    "City_depression=df.groupby('City')['Depression'].mean()*100\n",
    "City_depression=City_depression.sort_values(ascending=False)\n",
    "City_depression"
   ]
  },
  {
   "cell_type": "code",
   "execution_count": 141,
   "id": "fac4f125",
   "metadata": {},
   "outputs": [
    {
     "data": {
      "image/png": "[encoded data removed]",
      "text/plain": [
       "<Figure size 1000x600 with 1 Axes>"
      ]
     },
     "metadata": {},
     "output_type": "display_data"
    }
   ],
   "source": [
    "import matplotlib.pyplot as plt\n",
    "\n",
    "# Top 10 cities plot\n",
    "top10_cities = City_depression.head(10)\n",
    "\n",
    "plt.figure(figsize=(10, 6))\n",
    "plt.barh(top10_cities.index, top10_cities.values, color='tomato')\n",
    "plt.xlabel('Depression Rate (%)')\n",
    "plt.title('Top 10 Cities with Highest Student Depression Rates')\n",
    "plt.gca().invert_yaxis()\n",
    "plt.grid(axis='x', linestyle='--', alpha=0.7)\n",
    "plt.show()\n"
   ]
  },
  {
   "cell_type": "code",
   "execution_count": null,
   "id": "e87b4d9a",
   "metadata": {},
   "outputs": [],
   "source": []
  }
 ],
 "metadata": {
  "kernelspec": {
   "display_name": "Python 3",
   "language": "python",
   "name": "python3"
  },
  "language_info": {
   "codemirror_mode": {
    "name": "ipython",
    "version": 3
   },
   "file_extension": ".py",
   "mimetype": "text/x-python",
   "name": "python",
   "nbconvert_exporter": "python",
   "pygments_lexer": "ipython3",
   "version": "3.12.4"
  }
 },
 "nbformat": 4,
 "nbformat_minor": 5
}
